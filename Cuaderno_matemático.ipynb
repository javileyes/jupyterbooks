{
  "nbformat": 4,
  "nbformat_minor": 0,
  "metadata": {
    "colab": {
      "name": "Cuaderno_matemático.ipynb",
      "provenance": [],
      "collapsed_sections": [],
      "include_colab_link": true
    },
    "kernelspec": {
      "name": "python3",
      "display_name": "Python 3"
    }
  },
  "cells": [
    {
      "cell_type": "markdown",
      "metadata": {
        "id": "view-in-github",
        "colab_type": "text"
      },
      "source": [
        "<a href=\"https://colab.research.google.com/github/javileyes/jupyterbooks/blob/main/Cuaderno_matema%CC%81tico.ipynb\" target=\"_parent\"><img src=\"https://colab.research.google.com/assets/colab-badge.svg\" alt=\"Open In Colab\"/></a>"
      ]
    },
    {
      "cell_type": "markdown",
      "metadata": {
        "id": "8LO76ithWl1K"
      },
      "source": [
        "https://www.codecogs.com/latex/eqneditor.php\n"
      ]
    },
    {
      "cell_type": "markdown",
      "metadata": {
        "id": "tNwtK94IZtKD"
      },
      "source": [
        "https://www.hostmath.com/"
      ]
    },
    {
      "cell_type": "markdown",
      "metadata": {
        "id": "ph5cSn7xSb1f"
      },
      "source": [
        "$$\n",
        "x = \\frac{-b \\pm \\sqrt{b^2 - 4ac}}{2a} \n",
        "$$"
      ]
    },
    {
      "cell_type": "markdown",
      "metadata": {
        "id": "-yItIDIsThmK"
      },
      "source": [
        "$$\n",
        "y = \\int_{x=0}^{x=2 \\pi + 10} f(x) \\cdot dx\n",
        "$$"
      ]
    },
    {
      "cell_type": "markdown",
      "metadata": {
        "id": "AvrIiD-AUa8V"
      },
      "source": [
        "$$\n",
        "y = \\int_{x=0}^{x=\\infty} e^{-x} \\cdot dx\n",
        "$$"
      ]
    },
    {
      "cell_type": "markdown",
      "metadata": {
        "id": "jHPiVnlLY6b8"
      },
      "source": [
        "# PREPARAR TODO"
      ]
    },
    {
      "cell_type": "code",
      "metadata": {
        "id": "hc8Zvx8rQ_fd",
        "colab": {
          "base_uri": "https://localhost:8080/"
        },
        "outputId": "61d9825b-cc49-4df8-90bd-f6d97203e60c"
      },
      "source": [
        "from sympy import *\n",
        "x,y = symbols('x,y')\n",
        "integrate(exp(-x), (x, 0, oo))"
      ],
      "execution_count": 2,
      "outputs": [
        {
          "output_type": "execute_result",
          "data": {
            "text/plain": [
              "1"
            ]
          },
          "metadata": {
            "tags": []
          },
          "execution_count": 2
        }
      ]
    },
    {
      "cell_type": "code",
      "metadata": {
        "id": "DpEP40fE-DFh"
      },
      "source": [
        "%%bash\n",
        "wget https://www.antlr.org/download/antlr-4.7-complete.jar -P /usr/local/lib\n",
        "git clone https://github.com/javileyes/latex2sympy.git\n"
      ],
      "execution_count": null,
      "outputs": []
    },
    {
      "cell_type": "code",
      "metadata": {
        "id": "NyjkAjE-OW_c"
      },
      "source": [
        "%%bash\n",
        "cd latex2sympy/\n",
        "java -jar /usr/local/lib/antlr-4.7-complete.jar PS.g4 -o gen"
      ],
      "execution_count": 4,
      "outputs": []
    },
    {
      "cell_type": "code",
      "metadata": {
        "id": "qzRbaQjWNuaK"
      },
      "source": [
        "!wget https://pypi.python.org/packages/0b/6b/30c5b84d203b62e1412d14622e3bae6273399d79d20f3a24c8145213f610/antlr4-python3-runtime-4.7.tar.gz#md5=190245a0fb4abf43568489a4b6e33aba"
      ],
      "execution_count": null,
      "outputs": []
    },
    {
      "cell_type": "code",
      "metadata": {
        "id": "ZFS2RwikO2zG"
      },
      "source": [
        "%%bash\n",
        "tar -xf antlr4-python3-runtime-4.7.tar.gz\n",
        "cp -r antlr4-python3-runtime-4.7/src/antlr4/ ./"
      ],
      "execution_count": 6,
      "outputs": []
    },
    {
      "cell_type": "code",
      "metadata": {
        "id": "-BdEPjxmUXyf"
      },
      "source": [
        "%%bash\n",
        "mv latex2sympy/* .\n",
        "rm -f antlr4-python3-runtime-4.7.tar.gz\n",
        "rm -rf latex2sympy/\n",
        "#rm -f process_latex.py\n",
        "#wget https://raw.githubusercontent.com/javileyes/latex2sympy/master/process_latex.py\n"
      ],
      "execution_count": 7,
      "outputs": []
    },
    {
      "cell_type": "markdown",
      "metadata": {
        "id": "tIXGfkb9ZE3q"
      },
      "source": [
        "# PROBANDO SYMPHY CON LATEX"
      ]
    },
    {
      "cell_type": "code",
      "metadata": {
        "colab": {
          "base_uri": "https://localhost:8080/"
        },
        "id": "IMorruasAlcx",
        "outputId": "50416624-6a47-44b3-a16d-cf32cd9b771e"
      },
      "source": [
        "from process_latex import process_sympy\n",
        "expr = process_sympy(r\"\\frac {1 + \\sqrt {\\a}} {\\b}\")\n",
        "print(expr)\n",
        "print(expr.evalf(4, subs=dict(a=5, b=2)))"
      ],
      "execution_count": 8,
      "outputs": [
        {
          "output_type": "stream",
          "text": [
            "(sqrt(a) + 1)/b\n",
            "1.618\n"
          ],
          "name": "stdout"
        }
      ]
    },
    {
      "cell_type": "code",
      "metadata": {
        "colab": {
          "base_uri": "https://localhost:8080/"
        },
        "id": "5qC2lN2xcNu4",
        "outputId": "b8265855-326d-4552-a9bd-74650ce08fe9"
      },
      "source": [
        "from process_latex import test_sympy\n",
        "import inspect\n",
        "print(inspect.getsource(test_sympy))\n",
        "test_sympy()"
      ],
      "execution_count": 9,
      "outputs": [
        {
          "output_type": "stream",
          "text": [
            "def test_sympy():\n",
            "    print(process_sympy(\"e^{(45 + 2)}\"))\n",
            "    print(process_sympy(\"e + 5\"))\n",
            "    print(process_sympy(\"5 + e\"))\n",
            "    print(process_sympy(\"e\"))\n",
            "    print(process_sympy(\"\\\\frac{dx}{dy} \\\\int y x^2 dy\"))\n",
            "    print(process_sympy(\"\\\\frac{dx}{dy} 5\"))\n",
            "    print(process_sympy(\"\\\\frac{d}{dx} \\\\int x^2 dx\"))\n",
            "    print(process_sympy(\"\\\\frac{dx}{dy} \\\\int x^2 dx\"))\n",
            "    print(process_sympy(\"\\\\frac{d}{dy} x^2 + x y = 0\"))\n",
            "    print(process_sympy(\"\\\\frac{d}{dy} x^2 + x y = 2\"))\n",
            "    print(process_sympy(\"\\\\frac{d x^3}{dy}\"))\n",
            "    print(process_sympy(\"\\\\frac{d x^3}{dy} + x^3\"))\n",
            "    print(process_sympy(\"\\\\int^{5x}_{2} x^2 dy\"))\n",
            "    print(process_sympy(\"\\\\int_{5x}^{2} x^2 dx\"))\n",
            "    print(process_sympy(\"\\\\int x^2 dx\"))\n",
            "    print(process_sympy(\"2 4 5 - 2 3 1\"))\n",
            "\n",
            "e**(2 + 45)\n",
            "e + 5\n",
            "e + 5\n",
            "e\n",
            "Derivative(x, y)*Integral(x**2*y, y)\n",
            "5*Derivative(x, y)\n",
            "Derivative(Integral(x**2, x), x)\n",
            "Derivative(x, y)*Integral(x**2, x)\n",
            "Eq(x*y + Derivative(x**2, y), 0)\n",
            "Eq(x*y + Derivative(x**2, y), 2)\n",
            "Derivative(x**3, y)\n",
            "x**3 + Derivative(x**3, y)\n",
            "Integral(x**2, (y, 2, 5*x))\n",
            "Integral(x**2, (x, 5*x, 2))\n",
            "Integral(x**2, x)\n",
            "-6 + 2*(4*5)\n"
          ],
          "name": "stdout"
        }
      ]
    },
    {
      "cell_type": "markdown",
      "metadata": {
        "id": "TWLpW8NHVw8E"
      },
      "source": [
        "NOTA: EN EL TEST DE ARRIBA SE HA UTILIZADO EN LAS CADENAS DE FLEX LA DOBLE BARRA INVERTIDA \\\\ (LA PRIMERA COMO CARACTER DE ESCAPE) PARA EVITAR ESTO SE PUEDE USAR DELANTE DE LA CADENA LA LETRA [ r ] Y ASÍ UTILIZAR SU FORMA NATURAL. POR EJEMPLO DADA ESTA ECUACIÓN\n",
        "$$\n",
        "\\frac{dx}{dy} \\int y x^2 dy\n",
        "$$"
      ]
    },
    {
      "cell_type": "code",
      "metadata": {
        "colab": {
          "base_uri": "https://localhost:8080/"
        },
        "id": "RQpsV7MLWxoz",
        "outputId": "9254cd44-8571-4eab-a77f-90f2881970e7"
      },
      "source": [
        "expr = process_sympy(r\"\\frac{dx}{dy} \\int y x^2 dy\")\n",
        "print(expr)\n"
      ],
      "execution_count": 24,
      "outputs": [
        {
          "output_type": "stream",
          "text": [
            "Derivative(x, y)*Integral(x**2*y, y)\n"
          ],
          "name": "stdout"
        }
      ]
    },
    {
      "cell_type": "code",
      "metadata": {
        "id": "976hgnu1q89A",
        "colab": {
          "base_uri": "https://localhost:8080/"
        },
        "outputId": "dae32f2d-7b0d-429d-adf9-92477b52075c"
      },
      "source": [
        "print(latex(Integral(exp(-x))))"
      ],
      "execution_count": 10,
      "outputs": [
        {
          "output_type": "stream",
          "text": [
            "\\int e^{- x}\\, dx\n"
          ],
          "name": "stdout"
        }
      ]
    },
    {
      "cell_type": "markdown",
      "metadata": {
        "id": "iW-TTbpNrXU1"
      },
      "source": [
        "para mostrar una imagen en latex lo hago así:\n",
        "$$\n",
        "\\int e^{- x}\\, dx\n",
        "$$"
      ]
    },
    {
      "cell_type": "markdown",
      "metadata": {
        "id": "jtY1QEa9ZtdQ"
      },
      "source": [
        "Por ejemplo, tengo la siguiente expresión en látex\n",
        "$$\n",
        "\\frac {1 + \\sqrt {a}} {b}\n",
        "$$\n",
        "La copio y la pego dentro de la función process_sympy() y la puedo manejar matemáticamente así:"
      ]
    },
    {
      "cell_type": "code",
      "metadata": {
        "id": "lA9pZTbPrVwY",
        "colab": {
          "base_uri": "https://localhost:8080/"
        },
        "outputId": "6efd3d00-7a56-4877-b50d-e0de6fd53ee3"
      },
      "source": [
        "expr = process_sympy(r\"\\frac {1 + \\sqrt {a}} {b}\")\n",
        "print(expr)\n",
        "print(expr.evalf(4, subs=dict(a=5, b=2)))\n"
      ],
      "execution_count": 12,
      "outputs": [
        {
          "output_type": "stream",
          "text": [
            "(sqrt(a) + 1)/b\n",
            "1.618\n"
          ],
          "name": "stdout"
        }
      ]
    },
    {
      "cell_type": "code",
      "metadata": {
        "colab": {
          "base_uri": "https://localhost:8080/"
        },
        "id": "NjGq6Lq2VM32",
        "outputId": "b4678a96-7591-40f3-9b43-6436172f4158"
      },
      "source": [
        "print(process_sympy(r\"\\frac{dx}{dy} 5\"))"
      ],
      "execution_count": 15,
      "outputs": [
        {
          "output_type": "stream",
          "text": [
            "5*Derivative(x, y)\n"
          ],
          "name": "stdout"
        }
      ]
    },
    {
      "cell_type": "markdown",
      "metadata": {
        "id": "uY1rW6L7AaW6"
      },
      "source": [
        "# ENLACES INTERESANTES"
      ]
    },
    {
      "cell_type": "markdown",
      "metadata": {
        "id": "oOQ-WC9dawfp"
      },
      "source": [
        "https://docs.sympy.org/latest/modules/interactive.html"
      ]
    },
    {
      "cell_type": "markdown",
      "metadata": {
        "id": "odz_ywLFAbX5"
      },
      "source": [
        "# INIT_PRINTING"
      ]
    },
    {
      "cell_type": "markdown",
      "metadata": {
        "id": "mBYOvhzNU8qp"
      },
      "source": [
        "$$\n",
        "y = \\int e^{-x} \\cdot dx\n",
        "$$"
      ]
    },
    {
      "cell_type": "markdown",
      "metadata": {
        "id": "G36hHszxcJwy"
      },
      "source": [
        "https://docs.sympy.org/latest/tutorial/printing.html"
      ]
    },
    {
      "cell_type": "code",
      "metadata": {
        "id": "WA7pJNENBlHv",
        "colab": {
          "base_uri": "https://localhost:8080/",
          "height": 38
        },
        "outputId": "606e4dc1-3bd2-4462-d7fd-392fabe635fc"
      },
      "source": [
        "init_printing()\n",
        "integrate(exp(-x))"
      ],
      "execution_count": null,
      "outputs": [
        {
          "output_type": "execute_result",
          "data": {
            "image/png": "[encoded data removed]",
            "text/latex": "$$- e^{- x}$$",
            "text/plain": [
              "  -x\n",
              "-ℯ  "
            ]
          },
          "metadata": {
            "tags": []
          },
          "execution_count": 14
        }
      ]
    },
    {
      "cell_type": "code",
      "metadata": {
        "id": "8B3XRdBZMJLe",
        "colab": {
          "base_uri": "https://localhost:8080/",
          "height": 38
        },
        "outputId": "dc9a69f1-6a93-4df7-e80a-f262d5db1113"
      },
      "source": [
        "Integral(exp(-x))"
      ],
      "execution_count": null,
      "outputs": [
        {
          "output_type": "execute_result",
          "data": {
            "image/png": "[encoded data removed]",
            "text/latex": "$$\\int e^{- x}\\, dx$$",
            "text/plain": [
              "⌠       \n",
              "⎮  -x   \n",
              "⎮ ℯ   dx\n",
              "⌡       "
            ]
          },
          "metadata": {
            "tags": []
          },
          "execution_count": 12
        }
      ]
    },
    {
      "cell_type": "code",
      "metadata": {
        "id": "6HdNiNndOf1W",
        "colab": {
          "base_uri": "https://localhost:8080/",
          "height": 38
        },
        "outputId": "1fbc119f-0b5d-4700-a9d3-745a4025247c"
      },
      "source": [
        "_4 + 5"
      ],
      "execution_count": null,
      "outputs": [
        {
          "output_type": "execute_result",
          "data": {
            "image/png": "[encoded data removed]",
            "text/latex": "$$5 - e^{- x}$$",
            "text/plain": [
              "     -x\n",
              "5 - ℯ  "
            ]
          },
          "metadata": {
            "tags": []
          },
          "execution_count": 15
        }
      ]
    },
    {
      "cell_type": "markdown",
      "metadata": {
        "id": "3iHfPbHhcvAJ"
      },
      "source": [
        "# SYMPY GAMMA"
      ]
    },
    {
      "cell_type": "markdown",
      "metadata": {
        "id": "-P6RuVbEc8lo"
      },
      "source": [
        "https://www.sympygamma.com/input/?i=integrate%28log%28x%29%2C+%28x%2C+1%2C+a%29%29"
      ]
    },
    {
      "cell_type": "markdown",
      "metadata": {
        "id": "utfIBqxBdivX"
      },
      "source": [
        "# SYMPY TUTORIAL"
      ]
    },
    {
      "cell_type": "markdown",
      "metadata": {
        "id": "x6raqaVMdmst"
      },
      "source": [
        "https://zetcode.com/python/sympy/"
      ]
    },
    {
      "cell_type": "markdown",
      "metadata": {
        "id": "Swapp9-4iPOM"
      },
      "source": [
        "https://www.tutorialspoint.com/sympy/sympy_tutorial.pdf"
      ]
    },
    {
      "cell_type": "markdown",
      "metadata": {
        "id": "q33WkWNxcqa8"
      },
      "source": [
        "# REVISAR"
      ]
    },
    {
      "cell_type": "markdown",
      "metadata": {
        "id": "kZkRBEnYcqUs"
      },
      "source": [
        ""
      ]
    },
    {
      "cell_type": "markdown",
      "metadata": {
        "id": "eDSX9RT5cp8g"
      },
      "source": [
        ""
      ]
    },
    {
      "cell_type": "code",
      "metadata": {
        "id": "376tjpqfeXpf",
        "colab": {
          "base_uri": "https://localhost:8080/",
          "height": 1000
        },
        "outputId": "9dbd2467-4342-43ad-ff62-a1a70a5f531c"
      },
      "source": [
        "import numpy as np\n",
        "import cv2 as cv\n",
        "# Create a black image\n",
        "img = np.zeros((512,512,3), np.uint8)\n",
        "# Draw a diagonal blue line with thickness of 5 px\n",
        "cv.line(img,(0,0),(511,511),(255,0,0),5)"
      ],
      "execution_count": null,
      "outputs": [
        {
          "output_type": "execute_result",
          "data": {
            "text/plain": [
              "array([[[255,   0,   0],\n",
              "        [255,   0,   0],\n",
              "        [255,   0,   0],\n",
              "        ...,\n",
              "        [  0,   0,   0],\n",
              "        [  0,   0,   0],\n",
              "        [  0,   0,   0]],\n",
              "\n",
              "       [[255,   0,   0],\n",
              "        [255,   0,   0],\n",
              "        [255,   0,   0],\n",
              "        ...,\n",
              "        [  0,   0,   0],\n",
              "        [  0,   0,   0],\n",
              "        [  0,   0,   0]],\n",
              "\n",
              "       [[255,   0,   0],\n",
              "        [255,   0,   0],\n",
              "        [255,   0,   0],\n",
              "        ...,\n",
              "        [  0,   0,   0],\n",
              "        [  0,   0,   0],\n",
              "        [  0,   0,   0]],\n",
              "\n",
              "       ...,\n",
              "\n",
              "       [[  0,   0,   0],\n",
              "        [  0,   0,   0],\n",
              "        [  0,   0,   0],\n",
              "        ...,\n",
              "        [255,   0,   0],\n",
              "        [255,   0,   0],\n",
              "        [255,   0,   0]],\n",
              "\n",
              "       [[  0,   0,   0],\n",
              "        [  0,   0,   0],\n",
              "        [  0,   0,   0],\n",
              "        ...,\n",
              "        [255,   0,   0],\n",
              "        [255,   0,   0],\n",
              "        [255,   0,   0]],\n",
              "\n",
              "       [[  0,   0,   0],\n",
              "        [  0,   0,   0],\n",
              "        [  0,   0,   0],\n",
              "        ...,\n",
              "        [255,   0,   0],\n",
              "        [255,   0,   0],\n",
              "        [255,   0,   0]]], dtype=uint8)"
            ]
          },
          "metadata": {
            "tags": []
          },
          "execution_count": 3
        }
      ]
    },
    {
      "cell_type": "code",
      "metadata": {
        "id": "6HfAcPSFfLll"
      },
      "source": [
        "cv.rectangle(img,(384,0),(510,128),(0,255,0),3)"
      ],
      "execution_count": null,
      "outputs": []
    },
    {
      "cell_type": "code",
      "metadata": {
        "id": "JvscFfsQf5mV",
        "colab": {
          "base_uri": "https://localhost:8080/",
          "height": 529
        },
        "outputId": "876f7d62-c6e8-4f1e-a318-4eeba785257a"
      },
      "source": [
        "from google.colab.patches import cv2_imshow\n",
        "cv2_imshow(img)"
      ],
      "execution_count": null,
      "outputs": [
        {
          "output_type": "display_data",
          "data": {
            "image/png": "[encoded data removed]",
            "text/plain": [
              "<PIL.Image.Image image mode=RGB size=512x512 at 0x7F156E6F4240>"
            ]
          },
          "metadata": {
            "tags": []
          }
        }
      ]
    },
    {
      "cell_type": "code",
      "metadata": {
        "id": "8y36gSubfryF"
      },
      "source": [
        "font = cv.FONT_HERSHEY_SIMPLEX\n",
        "cv.putText(img,'OpenCV',(10,500), font, 4,(255,255,255),2,cv.LINE_AA)"
      ],
      "execution_count": null,
      "outputs": []
    },
    {
      "cell_type": "code",
      "metadata": {
        "id": "18m-ALHQgjOl",
        "colab": {
          "base_uri": "https://localhost:8080/",
          "height": 529
        },
        "outputId": "76d13d3f-b258-4e53-c5a4-f1f496cb08b5"
      },
      "source": [
        "img = np.zeros((512,512,3), np.uint8)\n",
        "cv2_imshow(img)"
      ],
      "execution_count": null,
      "outputs": [
        {
          "output_type": "display_data",
          "data": {
            "image/png": "[encoded data removed]",
            "text/plain": [
              "<PIL.Image.Image image mode=RGB size=512x512 at 0x7F43E65BC208>"
            ]
          },
          "metadata": {
            "tags": []
          }
        }
      ]
    },
    {
      "cell_type": "code",
      "metadata": {
        "id": "Z061YNMpkQ60",
        "colab": {
          "base_uri": "https://localhost:8080/",
          "height": 232
        },
        "outputId": "da1ca2df-bca0-477b-d25c-c9b109aa8eaf"
      },
      "source": [
        "import time\n",
        "pasos = 1000\n",
        "while pasos>0:\n",
        "  pasos=pasos-1\n",
        "  img = np.zeros((512,1024,3), np.uint8)\n",
        "  cv.circle(img,(pasos,250), 13, (0,0,255), -1)\n",
        "  cv2_imshow(img)\n",
        "  #cv.waitKey(1)"
      ],
      "execution_count": null,
      "outputs": [
        {
          "output_type": "error",
          "ename": "NameError",
          "evalue": "ignored",
          "traceback": [
            "\u001b[0;31m---------------------------------------------------------------------------\u001b[0m",
            "\u001b[0;31mNameError\u001b[0m                                 Traceback (most recent call last)",
            "\u001b[0;32m<ipython-input-16-548ffe84c1d9>\u001b[0m in \u001b[0;36m<module>\u001b[0;34m()\u001b[0m\n\u001b[1;32m      3\u001b[0m \u001b[0;32mwhile\u001b[0m \u001b[0mpasos\u001b[0m\u001b[0;34m>\u001b[0m\u001b[0;36m0\u001b[0m\u001b[0;34m:\u001b[0m\u001b[0;34m\u001b[0m\u001b[0;34m\u001b[0m\u001b[0m\n\u001b[1;32m      4\u001b[0m   \u001b[0mpasos\u001b[0m\u001b[0;34m=\u001b[0m\u001b[0mpasos\u001b[0m\u001b[0;34m-\u001b[0m\u001b[0;36m1\u001b[0m\u001b[0;34m\u001b[0m\u001b[0;34m\u001b[0m\u001b[0m\n\u001b[0;32m----> 5\u001b[0;31m   \u001b[0mimg\u001b[0m \u001b[0;34m=\u001b[0m \u001b[0mnp\u001b[0m\u001b[0;34m.\u001b[0m\u001b[0mzeros\u001b[0m\u001b[0;34m(\u001b[0m\u001b[0;34m(\u001b[0m\u001b[0;36m512\u001b[0m\u001b[0;34m,\u001b[0m\u001b[0;36m1024\u001b[0m\u001b[0;34m,\u001b[0m\u001b[0;36m3\u001b[0m\u001b[0;34m)\u001b[0m\u001b[0;34m,\u001b[0m \u001b[0mnp\u001b[0m\u001b[0;34m.\u001b[0m\u001b[0muint8\u001b[0m\u001b[0;34m)\u001b[0m\u001b[0;34m\u001b[0m\u001b[0;34m\u001b[0m\u001b[0m\n\u001b[0m\u001b[1;32m      6\u001b[0m   \u001b[0mcv\u001b[0m\u001b[0;34m.\u001b[0m\u001b[0mcircle\u001b[0m\u001b[0;34m(\u001b[0m\u001b[0mimg\u001b[0m\u001b[0;34m,\u001b[0m\u001b[0;34m(\u001b[0m\u001b[0mpasos\u001b[0m\u001b[0;34m,\u001b[0m\u001b[0;36m250\u001b[0m\u001b[0;34m)\u001b[0m\u001b[0;34m,\u001b[0m \u001b[0;36m13\u001b[0m\u001b[0;34m,\u001b[0m \u001b[0;34m(\u001b[0m\u001b[0;36m0\u001b[0m\u001b[0;34m,\u001b[0m\u001b[0;36m0\u001b[0m\u001b[0;34m,\u001b[0m\u001b[0;36m255\u001b[0m\u001b[0;34m)\u001b[0m\u001b[0;34m,\u001b[0m \u001b[0;34m-\u001b[0m\u001b[0;36m1\u001b[0m\u001b[0;34m)\u001b[0m\u001b[0;34m\u001b[0m\u001b[0;34m\u001b[0m\u001b[0m\n\u001b[1;32m      7\u001b[0m   \u001b[0mcv2_imshow\u001b[0m\u001b[0;34m(\u001b[0m\u001b[0mimg\u001b[0m\u001b[0;34m)\u001b[0m\u001b[0;34m\u001b[0m\u001b[0;34m\u001b[0m\u001b[0m\n",
            "\u001b[0;31mNameError\u001b[0m: name 'np' is not defined"
          ]
        }
      ]
    }
  ]
}